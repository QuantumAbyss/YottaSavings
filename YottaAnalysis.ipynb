{
 "cells": [
  {
   "cell_type": "code",
   "execution_count": 1,
   "metadata": {},
   "outputs": [],
   "source": [
    "import numpy as np\n",
    "import time\n",
    "import multiprocessing"
   ]
  },
  {
   "cell_type": "code",
   "execution_count": 59,
   "metadata": {},
   "outputs": [],
   "source": [
    "def create_ticket():\n",
    "    return np.append(np.random.choice(range(1,71),6,replace=False),\n",
    "                     np.random.choice(range(1,64),1))"
   ]
  },
  {
   "cell_type": "code",
   "execution_count": 60,
   "metadata": {},
   "outputs": [],
   "source": [
    "def create_mytickets(numTickets):\n",
    "    my_tickets = []\n",
    "    \n",
    "    for i in range(0, numTickets):\n",
    "        my_tickets.append(create_ticket())\n",
    "    return np.array(my_tickets)"
   ]
  },
  {
   "cell_type": "code",
   "execution_count": 61,
   "metadata": {},
   "outputs": [],
   "source": [
    "def weekly_drawing_nopool(numTickets):\n",
    "    \n",
    "    master_ticket = create_ticket()\n",
    "    tickets = create_mytickets(numTickets)\n",
    "    \n",
    "    winnings = 0\n",
    "    for i in range(0, len(tickets)):\n",
    "        matched = np.sum(tickets[i, 0:6] == master_ticket[0:6])\n",
    "        matched_yotta = tickets[i, 6] == master_ticket[6]\n",
    "        \n",
    "        if matched_yotta:\n",
    "            if (matched==0):\n",
    "                winnings += 0.1\n",
    "            elif (matched==1):\n",
    "                winnings += 0.15\n",
    "            elif (matched==2):\n",
    "                winnings += 0.6\n",
    "            elif (matched==3):\n",
    "                winnings += 7.0\n",
    "            elif (matched==4):\n",
    "                winnings += 0.0\n",
    "                #winnings += 1000.0\n",
    "            elif (matched==5):\n",
    "                winnings += 0.0\n",
    "                #winnings += 5000.0\n",
    "            elif (matched==6):\n",
    "                winnings += 0.0\n",
    "                #winnings += 5800000.0\n",
    "        else:\n",
    "            if (matched==0):\n",
    "                winnings += 0.0\n",
    "            elif (matched==1):\n",
    "                winnings += 0.0\n",
    "            elif (matched==2):\n",
    "                winnings += 0.0\n",
    "            elif (matched==3):\n",
    "                winnings += 0.25\n",
    "            elif (matched==4):\n",
    "                winnings += 10.0\n",
    "            elif (matched==5):\n",
    "                winnings += 0.0\n",
    "                #winnings += 1500.0\n",
    "            elif (matched==6):\n",
    "                winnings += 0.0\n",
    "                #winnings += 37990.0\n",
    "        \n",
    "    return winnings   "
   ]
  },
  {
   "cell_type": "code",
   "execution_count": 62,
   "metadata": {},
   "outputs": [],
   "source": [
    "def weekly_drawing_pool(numTickets):\n",
    "    \n",
    "    master_ticket = create_ticket()\n",
    "    tickets = create_mytickets(numTickets)\n",
    "    \n",
    "    winnings = 0\n",
    "    for i in range(0, len(tickets)):\n",
    "        matched = np.sum(tickets[i, 0:6] == master_ticket[0:6])\n",
    "        matched_yotta = tickets[i, 6] == master_ticket[6]\n",
    "        \n",
    "        if matched_yotta:\n",
    "            if (matched==0):\n",
    "                winnings += 0.1\n",
    "            elif (matched==1):\n",
    "                winnings += 0.15\n",
    "            elif (matched==2):\n",
    "                winnings += 0.6\n",
    "            elif (matched==3):\n",
    "                winnings += 7.0\n",
    "            elif (matched==4):\n",
    "                winnings += 1000.0\n",
    "            elif (matched==5):\n",
    "                winnings += 5000.0\n",
    "            elif (matched==6):\n",
    "                winnings += 5800000.0\n",
    "        else:\n",
    "            if (matched==0):\n",
    "                winnings += 0.0\n",
    "            elif (matched==1):\n",
    "                winnings += 0.0\n",
    "            elif (matched==2):\n",
    "                winnings += 0.0\n",
    "            elif (matched==3):\n",
    "                winnings += 0.25\n",
    "            elif (matched==4):\n",
    "                winnings += 10.0\n",
    "            elif (matched==5):\n",
    "                winnings += 1500.0\n",
    "            elif (matched==6):\n",
    "                winnings += 37990.0\n",
    "        \n",
    "    return winnings   "
   ]
  },
  {
   "cell_type": "code",
   "execution_count": 63,
   "metadata": {},
   "outputs": [],
   "source": [
    "def multiple_weekly_drawings_nopool(numWeeks, numTickets):\n",
    "    winnings = 0\n",
    "    for i in range(0, numWeeks):\n",
    "        winnings += weekly_drawing_nopool(numTickets)\n",
    "    return round(winnings,2)"
   ]
  },
  {
   "cell_type": "code",
   "execution_count": 64,
   "metadata": {},
   "outputs": [],
   "source": [
    "def multiple_weekly_drawings_pool(numWeeks, numTickets):\n",
    "    winnings = 0\n",
    "    for i in range(0, numWeeks):\n",
    "        winnings += weekly_drawing_pool(numTickets)\n",
    "    return round(winnings,2)"
   ]
  },
  {
   "cell_type": "code",
   "execution_count": 16,
   "metadata": {},
   "outputs": [],
   "source": [
    "def mc_multiple_weekly_drawings(numWeeks, numTickets, index, return_dict):\n",
    "    winnings = 0\n",
    "    for z in range(0, numWeeks):\n",
    "        #print(str(z) + \" represent!\")\n",
    "        winnings += weekly_drawing(numTickets)\n",
    "    print(str(index) + \" represent!\")\n",
    "    return_dict[index] = round(winnings,2)"
   ]
  },
  {
   "cell_type": "markdown",
   "metadata": {},
   "source": [
    "## Without Pooled Prizes"
   ]
  },
  {
   "cell_type": "code",
   "execution_count": 65,
   "metadata": {},
   "outputs": [
    {
     "name": "stdout",
     "output_type": "stream",
     "text": [
      "538.251925945282\n"
     ]
    }
   ],
   "source": [
    "randomWins = []\n",
    "t1 = time.time()\n",
    "for i in range(0, 1000):\n",
    "    randomWins.append(multiple_weekly_drawings_nopool(52, 200))\n",
    "print(time.time() - t1)"
   ]
  },
  {
   "cell_type": "code",
   "execution_count": 69,
   "metadata": {},
   "outputs": [
    {
     "name": "stdout",
     "output_type": "stream",
     "text": [
      "Average: $17.67\n",
      "Stdev: $1.72\n"
     ]
    }
   ],
   "source": [
    "print(\"Average: $\" + str(round(np.mean(np.array(randomWins)), 2)))\n",
    "print(\"Stdev: $\" + str(round(np.std(np.array(randomWins)), 2)))"
   ]
  },
  {
   "cell_type": "code",
   "execution_count": 70,
   "metadata": {},
   "outputs": [
    {
     "data": {
      "image/png": "[encoded data removed]",
      "text/plain": [
       "<Figure size 432x288 with 1 Axes>"
      ]
     },
     "metadata": {
      "needs_background": "light"
     },
     "output_type": "display_data"
    }
   ],
   "source": [
    "from matplotlib import pyplot as plt \n",
    "plt.hist(np.array(randomWins), bins=30)\n",
    "plt.title(\"Winnings Histogram\") \n",
    "plt.show()"
   ]
  },
  {
   "cell_type": "markdown",
   "metadata": {},
   "source": [
    "## With Pooled Prizes (But you're the only winner)"
   ]
  },
  {
   "cell_type": "code",
   "execution_count": 71,
   "metadata": {},
   "outputs": [
    {
     "name": "stdout",
     "output_type": "stream",
     "text": [
      "5359.6984713077545\n"
     ]
    }
   ],
   "source": [
    "randomWins = []\n",
    "t1 = time.time()\n",
    "for i in range(0, 10000):\n",
    "    randomWins.append(multiple_weekly_drawings_pool(52, 200))\n",
    "print(time.time() - t1)"
   ]
  },
  {
   "cell_type": "code",
   "execution_count": 72,
   "metadata": {},
   "outputs": [
    {
     "name": "stdout",
     "output_type": "stream",
     "text": [
      "Average: $17.94\n",
      "Stdev: $18.12\n"
     ]
    }
   ],
   "source": [
    "print(\"Average: $\" + str(round(np.mean(np.array(randomWins)), 2)))\n",
    "print(\"Stdev: $\" + str(round(np.std(np.array(randomWins)), 2)))"
   ]
  },
  {
   "cell_type": "code",
   "execution_count": 73,
   "metadata": {},
   "outputs": [
    {
     "data": {
      "image/png": "[encoded data removed]",
      "text/plain": [
       "<Figure size 432x288 with 1 Axes>"
      ]
     },
     "metadata": {
      "needs_background": "light"
     },
     "output_type": "display_data"
    }
   ],
   "source": [
    "from matplotlib import pyplot as plt \n",
    "plt.hist(np.array(randomWins), bins=30)\n",
    "plt.title(\"Winnings Histogram\") \n",
    "plt.show()"
   ]
  },
  {
   "cell_type": "code",
   "execution_count": 74,
   "metadata": {},
   "outputs": [
    {
     "data": {
      "text/plain": [
       "179447.85"
      ]
     },
     "execution_count": 74,
     "metadata": {},
     "output_type": "execute_result"
    }
   ],
   "source": [
    "np.sum(np.array(randomWins))"
   ]
  },
  {
   "cell_type": "code",
   "execution_count": 77,
   "metadata": {},
   "outputs": [
    {
     "data": {
      "text/plain": [
       "(array([4349, 9330]),)"
      ]
     },
     "execution_count": 77,
     "metadata": {},
     "output_type": "execute_result"
    }
   ],
   "source": [
    "np.where(np.array(randomWins) > 500)"
   ]
  },
  {
   "cell_type": "code",
   "execution_count": 79,
   "metadata": {},
   "outputs": [
    {
     "name": "stdout",
     "output_type": "stream",
     "text": [
      "1517.0\n",
      "1018.75\n"
     ]
    }
   ],
   "source": [
    "print(randomWins[4349])\n",
    "print(randomWins[9330])"
   ]
  },
  {
   "cell_type": "code",
   "execution_count": 81,
   "metadata": {},
   "outputs": [
    {
     "name": "stdout",
     "output_type": "stream",
     "text": [
      "17.594728945789157\n",
      "0.20375\n"
     ]
    }
   ],
   "source": [
    "print((178447.85 - (1517+1018.75)) / 9998)\n",
    "print(1018.75 / 5000)"
   ]
  },
  {
   "cell_type": "markdown",
   "metadata": {},
   "source": [
    "## 1000 Tickets No Pool"
   ]
  },
  {
   "cell_type": "code",
   "execution_count": 82,
   "metadata": {},
   "outputs": [
    {
     "name": "stdout",
     "output_type": "stream",
     "text": [
      "268.06562995910645\n"
     ]
    }
   ],
   "source": [
    "randomWins = []\n",
    "t1 = time.time()\n",
    "for i in range(0, 100):\n",
    "    randomWins.append(multiple_weekly_drawings_nopool(52, 1000))\n",
    "print(time.time() - t1)"
   ]
  },
  {
   "cell_type": "code",
   "execution_count": 42,
   "metadata": {},
   "outputs": [
    {
     "name": "stdout",
     "output_type": "stream",
     "text": [
      "Average: 89.86695\n",
      "Stdev: 4.008842750408153\n"
     ]
    }
   ],
   "source": [
    "print(\"Average: \" + str(np.mean(np.array(randomWins))))\n",
    "print(\"Stdev: \" + str(np.std(np.array(randomWins))))"
   ]
  },
  {
   "cell_type": "code",
   "execution_count": 43,
   "metadata": {},
   "outputs": [
    {
     "data": {
      "image/png": "[encoded data removed]",
      "text/plain": [
       "<Figure size 432x288 with 1 Axes>"
      ]
     },
     "metadata": {
      "needs_background": "light"
     },
     "output_type": "display_data"
    }
   ],
   "source": [
    "from matplotlib import pyplot as plt \n",
    "plt.hist(np.array(randomWins), bins=30)\n",
    "plt.title(\"Winnings Histogram\") \n",
    "plt.show()"
   ]
  },
  {
   "cell_type": "markdown",
   "metadata": {},
   "source": [
    "## Across Different Ticket Levels"
   ]
  },
  {
   "cell_type": "code",
   "execution_count": null,
   "metadata": {},
   "outputs": [],
   "source": [
    "t1 = time.time()\n",
    "\n",
    "winsAcrossTickets = []\n",
    "\n",
    "for i in range(100, 10001, 1000):\n",
    "    randomWins = []\n",
    "    for j in range(0, 100):\n",
    "        randomWins.append(multiple_weekly_drawings_nopool(52, i))\n",
    "    winsAcrossTickets.append(np.mean(np.array(randomWins)))\n",
    "    \n",
    "print(time.time() - t1)"
   ]
  },
  {
   "cell_type": "code",
   "execution_count": null,
   "metadata": {},
   "outputs": [],
   "source": [
    "print(np.array(winsAcrossTickets))\n",
    "print(25*np.array(range(100, 10001, 1000)))"
   ]
  },
  {
   "cell_type": "code",
   "execution_count": null,
   "metadata": {},
   "outputs": [],
   "source": [
    "np.array(winsAcrossTickets) / 25*np.array(range(100, 10001, 1000))"
   ]
  },
  {
   "cell_type": "markdown",
   "metadata": {},
   "source": [
    "## Multicore Processing - Not working"
   ]
  },
  {
   "cell_type": "code",
   "execution_count": 17,
   "metadata": {},
   "outputs": [
    {
     "name": "stdout",
     "output_type": "stream",
     "text": [
      "0 represent!3 represent!2 represent!\n",
      "\n",
      "\n",
      "4 represent!\n",
      "6 represent!\n",
      "5 represent!\n",
      "1 represent!\n",
      "9 represent!\n",
      "7 represent!\n",
      "8 represent!\n",
      "0.7144339084625244\n"
     ]
    }
   ],
   "source": [
    "t1 = time.time()\n",
    "\n",
    "processes = []\n",
    "manager = multiprocessing.Manager()\n",
    "return_dict = manager.dict()\n",
    "\n",
    "for index in range(10):\n",
    "    p = multiprocessing.Process(target=mc_multiple_weekly_drawings, args=(52, 200, index, return_dict))\n",
    "    processes.append(p)\n",
    "    p.start()\n",
    "    \n",
    "for process in processes:\n",
    "    process.join()\n",
    "    \n",
    "print(time.time() - t1)\n",
    "print(return_dict.values())"
   ]
  },
  {
   "cell_type": "code",
   "execution_count": null,
   "metadata": {},
   "outputs": [],
   "source": []
  }
 ],
 "metadata": {
  "kernelspec": {
   "display_name": "Python 3",
   "language": "python",
   "name": "python3"
  },
  "language_info": {
   "codemirror_mode": {
    "name": "ipython",
    "version": 3
   },
   "file_extension": ".py",
   "mimetype": "text/x-python",
   "name": "python",
   "nbconvert_exporter": "python",
   "pygments_lexer": "ipython3",
   "version": "3.8.5"
  }
 },
 "nbformat": 4,
 "nbformat_minor": 4
}
