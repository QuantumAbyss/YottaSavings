{
 "cells": [
  {
   "cell_type": "markdown",
   "metadata": {},
   "source": [
    "# Yotta APY & Savings Calculator"
   ]
  },
  {
   "cell_type": "markdown",
   "metadata": {},
   "source": [
    "Select a maximum number for the six regular drawings and the yotta ball using the two sliders. At the time of this code's last update, those numbers would be 70 and 63. Then select a number of tickets using the remaining selection and click \"Simulate\". \n",
    "\n",
    "The output will be an average APY and an estimate of average savings assuming no pooled prizes are won. Also, please note that it takes a couple of seconds to process once you click the \"Simulate\" button."
   ]
  },
  {
   "cell_type": "code",
   "execution_count": 28,
   "metadata": {},
   "outputs": [],
   "source": [
    "import ipywidgets as widgets\n",
    "import numpy as np\n",
    "from matplotlib import pyplot as plt "
   ]
  },
  {
   "cell_type": "markdown",
   "metadata": {},
   "source": [
    "Regular Number Maximum:"
   ]
  },
  {
   "cell_type": "code",
   "execution_count": 23,
   "metadata": {},
   "outputs": [
    {
     "data": {
      "application/vnd.jupyter.widget-view+json": {
       "model_id": "de02c4d975044c3ca43a15cea62f796a",
       "version_major": 2,
       "version_minor": 0
      },
      "text/plain": [
       "IntSlider(value=70, description='Regular', max=99)"
      ]
     },
     "metadata": {},
     "output_type": "display_data"
    }
   ],
   "source": [
    "regMax = widgets.IntSlider(value=70,min=0,max=99,step=1, description=\"Regular\")\n",
    "display(regMax)"
   ]
  },
  {
   "cell_type": "markdown",
   "metadata": {},
   "source": [
    "Yotta Number Maximum:"
   ]
  },
  {
   "cell_type": "code",
   "execution_count": 24,
   "metadata": {},
   "outputs": [
    {
     "data": {
      "application/vnd.jupyter.widget-view+json": {
       "model_id": "e3a60b53309745cbae188689ed5ff011",
       "version_major": 2,
       "version_minor": 0
      },
      "text/plain": [
       "IntSlider(value=63, description='Yotta', max=99)"
      ]
     },
     "metadata": {},
     "output_type": "display_data"
    }
   ],
   "source": [
    "yottaMax = widgets.IntSlider(value=63,min=0,max=99,step=1, description=\"Yotta\")\n",
    "display(yottaMax)"
   ]
  },
  {
   "cell_type": "markdown",
   "metadata": {},
   "source": [
    "Number of Tickets ($25 per ticket but you can get more tickets with the referral program):"
   ]
  },
  {
   "cell_type": "code",
   "execution_count": 25,
   "metadata": {},
   "outputs": [
    {
     "data": {
      "application/vnd.jupyter.widget-view+json": {
       "model_id": "1c1ac5275a554e89b787cbd9456284bc",
       "version_major": 2,
       "version_minor": 0
      },
      "text/plain": [
       "BoundedIntText(value=100, description='Tickets:', max=10000, min=1)"
      ]
     },
     "metadata": {},
     "output_type": "display_data"
    }
   ],
   "source": [
    "ticketNum = widgets.BoundedIntText(value=100,min=1,max=10000,step=1,description='Tickets:')\n",
    "display(ticketNum)"
   ]
  },
  {
   "cell_type": "code",
   "execution_count": 29,
   "metadata": {},
   "outputs": [],
   "source": [
    "def create_ticket(regMax, yottaMax):\n",
    "    return np.append(np.random.choice(range(1,regMax+1),6,replace=False),\n",
    "                     np.random.choice(range(1,yottaMax+1),1))\n",
    "\n",
    "def create_mytickets(numTickets, regMax, yottaMax):\n",
    "    my_tickets = []\n",
    "    \n",
    "    for i in range(0, numTickets):\n",
    "        my_tickets.append(create_ticket(regMax, yottaMax))\n",
    "    return np.array(my_tickets)\n",
    "\n",
    "def weekly_drawing_nopool(numTickets, regMax, yottaMax):\n",
    "    \n",
    "    master_ticket = create_ticket(regMax, yottaMax)\n",
    "    tickets = create_mytickets(numTickets, regMax, yottaMax)\n",
    "    \n",
    "    winnings = 0\n",
    "    for i in range(0, len(tickets)):\n",
    "        matched = np.sum(tickets[i, 0:6] == master_ticket[0:6])\n",
    "        matched_yotta = tickets[i, 6] == master_ticket[6]\n",
    "        \n",
    "        if matched_yotta:\n",
    "            if (matched==0):\n",
    "                winnings += 0.1\n",
    "            elif (matched==1):\n",
    "                winnings += 0.15\n",
    "            elif (matched==2):\n",
    "                winnings += 0.6\n",
    "            elif (matched==3):\n",
    "                winnings += 7.0\n",
    "            elif (matched==4):\n",
    "                winnings += 0.0\n",
    "                #winnings += 1000.0\n",
    "            elif (matched==5):\n",
    "                winnings += 0.0\n",
    "                #winnings += 5000.0\n",
    "            elif (matched==6):\n",
    "                winnings += 0.0\n",
    "                #winnings += 5800000.0\n",
    "        else:\n",
    "            if (matched==0):\n",
    "                winnings += 0.0\n",
    "            elif (matched==1):\n",
    "                winnings += 0.0\n",
    "            elif (matched==2):\n",
    "                winnings += 0.0\n",
    "            elif (matched==3):\n",
    "                winnings += 0.25\n",
    "            elif (matched==4):\n",
    "                winnings += 10.0\n",
    "            elif (matched==5):\n",
    "                winnings += 0.0\n",
    "                #winnings += 1500.0\n",
    "            elif (matched==6):\n",
    "                winnings += 0.0\n",
    "                #winnings += 37990.0\n",
    "        \n",
    "    return winnings   \n",
    "\n",
    "def multiple_weekly_drawings_nopool(numWeeks, numTickets, regMax, yottaMax):\n",
    "    winnings = 0\n",
    "    for i in range(0, numWeeks):\n",
    "        winnings += weekly_drawing_nopool(numTickets, regMax, yottaMax)\n",
    "    return round(winnings,2)"
   ]
  },
  {
   "cell_type": "code",
   "execution_count": 38,
   "metadata": {},
   "outputs": [
    {
     "data": {
      "application/vnd.jupyter.widget-view+json": {
       "model_id": "074c541716b24b7693c0d788bead4fba",
       "version_major": 2,
       "version_minor": 0
      },
      "text/plain": [
       "Button(description='Simulate', style=ButtonStyle(), tooltip='Simulate')"
      ]
     },
     "metadata": {},
     "output_type": "display_data"
    },
    {
     "data": {
      "application/vnd.jupyter.widget-view+json": {
       "model_id": "9c45c77fe665486ca19698b3c4e92534",
       "version_major": 2,
       "version_minor": 0
      },
      "text/plain": [
       "Output()"
      ]
     },
     "metadata": {},
     "output_type": "display_data"
    }
   ],
   "source": [
    "button = widgets.Button(description='Simulate',button_style='', # 'success', 'info', 'warning', 'danger' or ''\n",
    "    tooltip='Simulate')\n",
    "output = widgets.Output()\n",
    "\n",
    "display(button, output)\n",
    "\n",
    "def on_button_clicked(b):\n",
    "    with output:\n",
    "        randomWins = []\n",
    "        for i in range(0, 100):\n",
    "            randomWins.append(multiple_weekly_drawings_nopool(52, ticketNum.value, regMax.value, yottaMax.value))\n",
    "        print(\"Found an average winnings of $\" + str(round(np.mean(np.array(randomWins)), 2)) + \" in a year.\")\n",
    "        print(\"With a standard deviation of $\" + str(round(np.std(np.array(randomWins)), 2)))\n",
    "        print(\"This represents a \" + str(round(100*(np.mean(np.array(randomWins)) / (ticketNum.value*25)),2)) + \"% APY\")\n",
    "        plt.hist(np.array(randomWins), bins=30)\n",
    "        plt.title(\"Winnings Histogram (Out of 100 Simulations)\") \n",
    "        plt.show()\n",
    "\n",
    "button.on_click(on_button_clicked)"
   ]
  },
  {
   "cell_type": "code",
   "execution_count": null,
   "metadata": {},
   "outputs": [],
   "source": []
  }
 ],
 "metadata": {
  "kernelspec": {
   "display_name": "Python 3",
   "language": "python",
   "name": "python3"
  },
  "language_info": {
   "codemirror_mode": {
    "name": "ipython",
    "version": 3
   },
   "file_extension": ".py",
   "mimetype": "text/x-python",
   "name": "python",
   "nbconvert_exporter": "python",
   "pygments_lexer": "ipython3",
   "version": "3.8.5"
  }
 },
 "nbformat": 4,
 "nbformat_minor": 4
}
